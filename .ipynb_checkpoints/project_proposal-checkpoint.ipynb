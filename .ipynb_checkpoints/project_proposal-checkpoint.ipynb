{
 "cells": [
  {
   "cell_type": "markdown",
   "metadata": {},
   "source": [
    "\n",
    "## **Group 37 STAT-201 Project Proposal**: Exploring Salaries of Data Science Professionals\n"
   ]
  },
  {
   "cell_type": "markdown",
   "metadata": {},
   "source": [
    "### Introduction\n",
    "Data science professionals have gained flexibility in recent years in regards to how they work — with more choosing to work hybrid remote or fully remote instead of spending their days in the office. Furthermore, reports suggest that data science is one of the areas in tech with the fastest growing salaries (Sendall, Peslak, Ceccucci, & Hunsinger, 2022, p. 32). \n",
    "\n",
    "With these notions in mind, how do salaries compare across in-person, hybrid, and fully remote workers? We found a dataset of 607 data science professionals (Data Science Job Salaries, 2022) to help us answer this question. Each observation in the data has the following variables: the year the observation was recorded; the job title of the worker; their country of residence; their salary; their experience level; their ratio of remote work; the country of their employer; the location of the employer; and the size of their company. \n",
    "\n",
    "The variables of interest in helping us answer our question are salary and the ratio of remote work. In this dataset, the ratio of remote work is a categorical variable that is either 0%, 50%, or 100%. These ratios are equivalent to the qualitative labels of ‘in-person’, ‘hybrid’, or ‘fully \n",
    "remote’. \n",
    "\n",
    "To actually answer the question, we will be computing the mean salary and standard deviation of the salary for each group of remote work done. \n",
    "\n",
    "The population of interest is the global community of data science professionals. We believe this dataset is relatively representative of this population because it includes workers from over 50 countries.  \n",
    "\n"
   ]
  },
  {
   "cell_type": "markdown",
   "metadata": {},
   "source": [
    "### Preliminary Results\n",
    "Below we will demonstrate that we can read the data from the web and wrangle it into a tidy format. We will also address our primary question with plots and tables. "
   ]
  },
  {
   "cell_type": "code",
   "execution_count": 1,
   "metadata": {
    "vscode": {
     "languageId": "r"
    }
   },
   "outputs": [],
   "source": [
    "suppressWarnings(suppressMessages(library(tidyverse)))\n",
    "suppressWarnings(suppressMessages(library(dplyr)))\n",
    "\n"
   ]
  },
  {
   "cell_type": "markdown",
   "metadata": {},
   "source": [
    "#### Reading Data\n",
    "\n",
    "Note that the original dataset had a column to index the rows, hence the column name `...1`"
   ]
  },
  {
   "cell_type": "code",
   "execution_count": 2,
   "metadata": {
    "vscode": {
     "languageId": "r"
    }
   },
   "outputs": [
    {
     "name": "stderr",
     "output_type": "stream",
     "text": [
      "\u001b[1m\u001b[22mNew names:\n",
      "\u001b[36m•\u001b[39m `` -> `...1`\n"
     ]
    },
    {
     "data": {
      "text/html": [
       "<table class=\"dataframe\">\n",
       "<caption>A tibble: 6 × 12</caption>\n",
       "<thead>\n",
       "\t<tr><th scope=col>...1</th><th scope=col>work_year</th><th scope=col>experience_level</th><th scope=col>employment_type</th><th scope=col>job_title</th><th scope=col>salary</th><th scope=col>salary_currency</th><th scope=col>salary_in_usd</th><th scope=col>employee_residence</th><th scope=col>remote_ratio</th><th scope=col>company_location</th><th scope=col>company_size</th></tr>\n",
       "\t<tr><th scope=col>&lt;dbl&gt;</th><th scope=col>&lt;dbl&gt;</th><th scope=col>&lt;chr&gt;</th><th scope=col>&lt;chr&gt;</th><th scope=col>&lt;chr&gt;</th><th scope=col>&lt;dbl&gt;</th><th scope=col>&lt;chr&gt;</th><th scope=col>&lt;dbl&gt;</th><th scope=col>&lt;chr&gt;</th><th scope=col>&lt;dbl&gt;</th><th scope=col>&lt;chr&gt;</th><th scope=col>&lt;chr&gt;</th></tr>\n",
       "</thead>\n",
       "<tbody>\n",
       "\t<tr><td>0</td><td>2020</td><td>MI</td><td>FT</td><td>Data Scientist            </td><td> 70000</td><td>EUR</td><td> 79833</td><td>DE</td><td>  0</td><td>DE</td><td>L</td></tr>\n",
       "\t<tr><td>1</td><td>2020</td><td>SE</td><td>FT</td><td>Machine Learning Scientist</td><td>260000</td><td>USD</td><td>260000</td><td>JP</td><td>  0</td><td>JP</td><td>S</td></tr>\n",
       "\t<tr><td>2</td><td>2020</td><td>SE</td><td>FT</td><td>Big Data Engineer         </td><td> 85000</td><td>GBP</td><td>109024</td><td>GB</td><td> 50</td><td>GB</td><td>M</td></tr>\n",
       "\t<tr><td>3</td><td>2020</td><td>MI</td><td>FT</td><td>Product Data Analyst      </td><td> 20000</td><td>USD</td><td> 20000</td><td>HN</td><td>  0</td><td>HN</td><td>S</td></tr>\n",
       "\t<tr><td>4</td><td>2020</td><td>SE</td><td>FT</td><td>Machine Learning Engineer </td><td>150000</td><td>USD</td><td>150000</td><td>US</td><td> 50</td><td>US</td><td>L</td></tr>\n",
       "\t<tr><td>5</td><td>2020</td><td>EN</td><td>FT</td><td>Data Analyst              </td><td> 72000</td><td>USD</td><td> 72000</td><td>US</td><td>100</td><td>US</td><td>L</td></tr>\n",
       "</tbody>\n",
       "</table>\n"
      ],
      "text/latex": [
       "A tibble: 6 × 12\n",
       "\\begin{tabular}{llllllllllll}\n",
       " ...1 & work\\_year & experience\\_level & employment\\_type & job\\_title & salary & salary\\_currency & salary\\_in\\_usd & employee\\_residence & remote\\_ratio & company\\_location & company\\_size\\\\\n",
       " <dbl> & <dbl> & <chr> & <chr> & <chr> & <dbl> & <chr> & <dbl> & <chr> & <dbl> & <chr> & <chr>\\\\\n",
       "\\hline\n",
       "\t 0 & 2020 & MI & FT & Data Scientist             &  70000 & EUR &  79833 & DE &   0 & DE & L\\\\\n",
       "\t 1 & 2020 & SE & FT & Machine Learning Scientist & 260000 & USD & 260000 & JP &   0 & JP & S\\\\\n",
       "\t 2 & 2020 & SE & FT & Big Data Engineer          &  85000 & GBP & 109024 & GB &  50 & GB & M\\\\\n",
       "\t 3 & 2020 & MI & FT & Product Data Analyst       &  20000 & USD &  20000 & HN &   0 & HN & S\\\\\n",
       "\t 4 & 2020 & SE & FT & Machine Learning Engineer  & 150000 & USD & 150000 & US &  50 & US & L\\\\\n",
       "\t 5 & 2020 & EN & FT & Data Analyst               &  72000 & USD &  72000 & US & 100 & US & L\\\\\n",
       "\\end{tabular}\n"
      ],
      "text/markdown": [
       "\n",
       "A tibble: 6 × 12\n",
       "\n",
       "| ...1 &lt;dbl&gt; | work_year &lt;dbl&gt; | experience_level &lt;chr&gt; | employment_type &lt;chr&gt; | job_title &lt;chr&gt; | salary &lt;dbl&gt; | salary_currency &lt;chr&gt; | salary_in_usd &lt;dbl&gt; | employee_residence &lt;chr&gt; | remote_ratio &lt;dbl&gt; | company_location &lt;chr&gt; | company_size &lt;chr&gt; |\n",
       "|---|---|---|---|---|---|---|---|---|---|---|---|\n",
       "| 0 | 2020 | MI | FT | Data Scientist             |  70000 | EUR |  79833 | DE |   0 | DE | L |\n",
       "| 1 | 2020 | SE | FT | Machine Learning Scientist | 260000 | USD | 260000 | JP |   0 | JP | S |\n",
       "| 2 | 2020 | SE | FT | Big Data Engineer          |  85000 | GBP | 109024 | GB |  50 | GB | M |\n",
       "| 3 | 2020 | MI | FT | Product Data Analyst       |  20000 | USD |  20000 | HN |   0 | HN | S |\n",
       "| 4 | 2020 | SE | FT | Machine Learning Engineer  | 150000 | USD | 150000 | US |  50 | US | L |\n",
       "| 5 | 2020 | EN | FT | Data Analyst               |  72000 | USD |  72000 | US | 100 | US | L |\n",
       "\n"
      ],
      "text/plain": [
       "  ...1 work_year experience_level employment_type job_title                 \n",
       "1 0    2020      MI               FT              Data Scientist            \n",
       "2 1    2020      SE               FT              Machine Learning Scientist\n",
       "3 2    2020      SE               FT              Big Data Engineer         \n",
       "4 3    2020      MI               FT              Product Data Analyst      \n",
       "5 4    2020      SE               FT              Machine Learning Engineer \n",
       "6 5    2020      EN               FT              Data Analyst              \n",
       "  salary salary_currency salary_in_usd employee_residence remote_ratio\n",
       "1  70000 EUR              79833        DE                   0         \n",
       "2 260000 USD             260000        JP                   0         \n",
       "3  85000 GBP             109024        GB                  50         \n",
       "4  20000 USD              20000        HN                   0         \n",
       "5 150000 USD             150000        US                  50         \n",
       "6  72000 USD              72000        US                 100         \n",
       "  company_location company_size\n",
       "1 DE               L           \n",
       "2 JP               S           \n",
       "3 GB               M           \n",
       "4 HN               S           \n",
       "5 US               L           \n",
       "6 US               L           "
      ]
     },
     "metadata": {},
     "output_type": "display_data"
    }
   ],
   "source": [
    "salary_data <- read_csv(\"https://raw.githubusercontent.com/william-swy/stat_201_project/main/ds_salaries.csv\", show_col_types = FALSE)\n",
    "head(salary_data)"
   ]
  },
  {
   "cell_type": "markdown",
   "metadata": {},
   "source": [
    "#### Cleaning and Wrangling Data"
   ]
  },
  {
   "cell_type": "markdown",
   "metadata": {},
   "source": [
    "The column `remote_ratio` consists of three values: `0`, `50`, `100`, which represent \"in-person\", \"hybrid\" and \"remote\" respectively, it makes more sense to represent the column\n",
    "as a factor."
   ]
  },
  {
   "cell_type": "code",
   "execution_count": 3,
   "metadata": {
    "vscode": {
     "languageId": "r"
    }
   },
   "outputs": [
    {
     "data": {
      "text/html": [
       "<table class=\"dataframe\">\n",
       "<caption>A tibble: 3 × 1</caption>\n",
       "<thead>\n",
       "\t<tr><th scope=col>remote_ratio</th></tr>\n",
       "\t<tr><th scope=col>&lt;dbl&gt;</th></tr>\n",
       "</thead>\n",
       "<tbody>\n",
       "\t<tr><td>  0</td></tr>\n",
       "\t<tr><td> 50</td></tr>\n",
       "\t<tr><td>100</td></tr>\n",
       "</tbody>\n",
       "</table>\n"
      ],
      "text/latex": [
       "A tibble: 3 × 1\n",
       "\\begin{tabular}{l}\n",
       " remote\\_ratio\\\\\n",
       " <dbl>\\\\\n",
       "\\hline\n",
       "\t   0\\\\\n",
       "\t  50\\\\\n",
       "\t 100\\\\\n",
       "\\end{tabular}\n"
      ],
      "text/markdown": [
       "\n",
       "A tibble: 3 × 1\n",
       "\n",
       "| remote_ratio &lt;dbl&gt; |\n",
       "|---|\n",
       "|   0 |\n",
       "|  50 |\n",
       "| 100 |\n",
       "\n"
      ],
      "text/plain": [
       "  remote_ratio\n",
       "1   0         \n",
       "2  50         \n",
       "3 100         "
      ]
     },
     "metadata": {},
     "output_type": "display_data"
    }
   ],
   "source": [
    "unique(salary_data[c(\"remote_ratio\")])"
   ]
  },
  {
   "cell_type": "code",
   "execution_count": 4,
   "metadata": {
    "vscode": {
     "languageId": "r"
    }
   },
   "outputs": [
    {
     "data": {
      "text/html": [
       "<table class=\"dataframe\">\n",
       "<caption>A tibble: 6 × 11</caption>\n",
       "<thead>\n",
       "\t<tr><th scope=col>work_year</th><th scope=col>experience_level</th><th scope=col>employment_type</th><th scope=col>job_title</th><th scope=col>salary</th><th scope=col>salary_currency</th><th scope=col>salary_in_usd</th><th scope=col>employee_residence</th><th scope=col>remote_ratio</th><th scope=col>company_location</th><th scope=col>company_size</th></tr>\n",
       "\t<tr><th scope=col>&lt;dbl&gt;</th><th scope=col>&lt;chr&gt;</th><th scope=col>&lt;chr&gt;</th><th scope=col>&lt;chr&gt;</th><th scope=col>&lt;dbl&gt;</th><th scope=col>&lt;chr&gt;</th><th scope=col>&lt;dbl&gt;</th><th scope=col>&lt;chr&gt;</th><th scope=col>&lt;fct&gt;</th><th scope=col>&lt;chr&gt;</th><th scope=col>&lt;chr&gt;</th></tr>\n",
       "</thead>\n",
       "<tbody>\n",
       "\t<tr><td>2020</td><td>MI</td><td>FT</td><td>Data Scientist            </td><td> 70000</td><td>EUR</td><td> 79833</td><td>DE</td><td>in-person</td><td>DE</td><td>L</td></tr>\n",
       "\t<tr><td>2020</td><td>SE</td><td>FT</td><td>Machine Learning Scientist</td><td>260000</td><td>USD</td><td>260000</td><td>JP</td><td>in-person</td><td>JP</td><td>S</td></tr>\n",
       "\t<tr><td>2020</td><td>SE</td><td>FT</td><td>Big Data Engineer         </td><td> 85000</td><td>GBP</td><td>109024</td><td>GB</td><td>hybrid   </td><td>GB</td><td>M</td></tr>\n",
       "\t<tr><td>2020</td><td>MI</td><td>FT</td><td>Product Data Analyst      </td><td> 20000</td><td>USD</td><td> 20000</td><td>HN</td><td>in-person</td><td>HN</td><td>S</td></tr>\n",
       "\t<tr><td>2020</td><td>SE</td><td>FT</td><td>Machine Learning Engineer </td><td>150000</td><td>USD</td><td>150000</td><td>US</td><td>hybrid   </td><td>US</td><td>L</td></tr>\n",
       "\t<tr><td>2020</td><td>EN</td><td>FT</td><td>Data Analyst              </td><td> 72000</td><td>USD</td><td> 72000</td><td>US</td><td>remote   </td><td>US</td><td>L</td></tr>\n",
       "</tbody>\n",
       "</table>\n"
      ],
      "text/latex": [
       "A tibble: 6 × 11\n",
       "\\begin{tabular}{lllllllllll}\n",
       " work\\_year & experience\\_level & employment\\_type & job\\_title & salary & salary\\_currency & salary\\_in\\_usd & employee\\_residence & remote\\_ratio & company\\_location & company\\_size\\\\\n",
       " <dbl> & <chr> & <chr> & <chr> & <dbl> & <chr> & <dbl> & <chr> & <fct> & <chr> & <chr>\\\\\n",
       "\\hline\n",
       "\t 2020 & MI & FT & Data Scientist             &  70000 & EUR &  79833 & DE & in-person & DE & L\\\\\n",
       "\t 2020 & SE & FT & Machine Learning Scientist & 260000 & USD & 260000 & JP & in-person & JP & S\\\\\n",
       "\t 2020 & SE & FT & Big Data Engineer          &  85000 & GBP & 109024 & GB & hybrid    & GB & M\\\\\n",
       "\t 2020 & MI & FT & Product Data Analyst       &  20000 & USD &  20000 & HN & in-person & HN & S\\\\\n",
       "\t 2020 & SE & FT & Machine Learning Engineer  & 150000 & USD & 150000 & US & hybrid    & US & L\\\\\n",
       "\t 2020 & EN & FT & Data Analyst               &  72000 & USD &  72000 & US & remote    & US & L\\\\\n",
       "\\end{tabular}\n"
      ],
      "text/markdown": [
       "\n",
       "A tibble: 6 × 11\n",
       "\n",
       "| work_year &lt;dbl&gt; | experience_level &lt;chr&gt; | employment_type &lt;chr&gt; | job_title &lt;chr&gt; | salary &lt;dbl&gt; | salary_currency &lt;chr&gt; | salary_in_usd &lt;dbl&gt; | employee_residence &lt;chr&gt; | remote_ratio &lt;fct&gt; | company_location &lt;chr&gt; | company_size &lt;chr&gt; |\n",
       "|---|---|---|---|---|---|---|---|---|---|---|\n",
       "| 2020 | MI | FT | Data Scientist             |  70000 | EUR |  79833 | DE | in-person | DE | L |\n",
       "| 2020 | SE | FT | Machine Learning Scientist | 260000 | USD | 260000 | JP | in-person | JP | S |\n",
       "| 2020 | SE | FT | Big Data Engineer          |  85000 | GBP | 109024 | GB | hybrid    | GB | M |\n",
       "| 2020 | MI | FT | Product Data Analyst       |  20000 | USD |  20000 | HN | in-person | HN | S |\n",
       "| 2020 | SE | FT | Machine Learning Engineer  | 150000 | USD | 150000 | US | hybrid    | US | L |\n",
       "| 2020 | EN | FT | Data Analyst               |  72000 | USD |  72000 | US | remote    | US | L |\n",
       "\n"
      ],
      "text/plain": [
       "  work_year experience_level employment_type job_title                  salary\n",
       "1 2020      MI               FT              Data Scientist              70000\n",
       "2 2020      SE               FT              Machine Learning Scientist 260000\n",
       "3 2020      SE               FT              Big Data Engineer           85000\n",
       "4 2020      MI               FT              Product Data Analyst        20000\n",
       "5 2020      SE               FT              Machine Learning Engineer  150000\n",
       "6 2020      EN               FT              Data Analyst                72000\n",
       "  salary_currency salary_in_usd employee_residence remote_ratio\n",
       "1 EUR              79833        DE                 in-person   \n",
       "2 USD             260000        JP                 in-person   \n",
       "3 GBP             109024        GB                 hybrid      \n",
       "4 USD              20000        HN                 in-person   \n",
       "5 USD             150000        US                 hybrid      \n",
       "6 USD              72000        US                 remote      \n",
       "  company_location company_size\n",
       "1 DE               L           \n",
       "2 JP               S           \n",
       "3 GB               M           \n",
       "4 HN               S           \n",
       "5 US               L           \n",
       "6 US               L           "
      ]
     },
     "metadata": {},
     "output_type": "display_data"
    }
   ],
   "source": [
    "\n",
    "salary_data_clean <- salary_data %>%\n",
    "                     mutate(remote_ratio = factor(remote_ratio)) %>%\n",
    "                     mutate(remote_ratio = recode(remote_ratio, `0` = \"in-person\", `50` = \"hybrid\", `100` = \"remote\")) %>%\n",
    "                     select(-...1)\n",
    "head(salary_data_clean)"
   ]
  },
  {
   "cell_type": "markdown",
   "metadata": {},
   "source": [
    "#### Relevant Plots"
   ]
  },
  {
   "cell_type": "markdown",
   "metadata": {},
   "source": [
    "It is helpful to see the distributions of the three different remote levels. From **Figure 1**, it seems that the means for all three different remote levels are relatively close to each other. One thing to note from the histogram is that the sample has a significant larger proportion of remote workers compared to both in-person and hybrid."
   ]
  },
  {
   "cell_type": "code",
   "execution_count": 5,
   "metadata": {
    "vscode": {
     "languageId": "r"
    }
   },
   "outputs": [
    {
     "data": {
      "image/png": "[encoded data removed]",
      "text/plain": [
       "plot without title"
      ]
     },
     "metadata": {
      "image/png": {
       "height": 420,
       "width": 420
      }
     },
     "output_type": "display_data"
    }
   ],
   "source": [
    "salary_remote_lvl_histogram <- \n",
    "                    salary_data_clean %>% \n",
    "                    ggplot() +\n",
    "                    geom_histogram(aes(salary_in_usd, color=remote_ratio, fill=remote_ratio), alpha=.25, bins=25, position=\"identity\") +\n",
    "                    xlab(\"Salary (USD)\") +\n",
    "                    ylab(\"Frequency\") +\n",
    "                    ggtitle(\"Figure 1. Distributions of salaries for different remote levels\")\n",
    "salary_remote_lvl_histogram"
   ]
  },
  {
   "cell_type": "markdown",
   "metadata": {},
   "source": [
    "To make the visual comparison of centers and spreads easier, a box plot was created."
   ]
  },
  {
   "cell_type": "code",
   "execution_count": 6,
   "metadata": {
    "vscode": {
     "languageId": "r"
    }
   },
   "outputs": [
    {
     "data": {
      "image/png": "[encoded data removed]",
      "text/plain": [
       "plot without title"
      ]
     },
     "metadata": {
      "image/png": {
       "height": 420,
       "width": 420
      }
     },
     "output_type": "display_data"
    }
   ],
   "source": [
    "salary_remote_lvl_boxplot <- \n",
    "    salary_data_clean %>%\n",
    "    ggplot(aes(x = remote_ratio, y = salary_in_usd)) +\n",
    "    geom_boxplot() + \n",
    "    xlab(\"Remote level\") +\n",
    "    ylab(\"Salary (USD)\") +\n",
    "    ggtitle(\"Figure 2. Data Science salaries for different remote levels\")\n",
    "salary_remote_lvl_boxplot"
   ]
  },
  {
   "cell_type": "markdown",
   "metadata": {},
   "source": [
    "#### Parameter Estimates\n",
    "Below we will compute the mean and standard deviation of each group's salary."
   ]
  },
  {
   "cell_type": "code",
   "execution_count": 7,
   "metadata": {
    "vscode": {
     "languageId": "r"
    }
   },
   "outputs": [
    {
     "data": {
      "text/html": [
       "<table class=\"dataframe\">\n",
       "<caption>A tibble: 3 × 3</caption>\n",
       "<thead>\n",
       "\t<tr><th scope=col>remote_ratio</th><th scope=col>mean_salary</th><th scope=col>salary_sd</th></tr>\n",
       "\t<tr><th scope=col>&lt;fct&gt;</th><th scope=col>&lt;dbl&gt;</th><th scope=col>&lt;dbl&gt;</th></tr>\n",
       "</thead>\n",
       "<tbody>\n",
       "\t<tr><td>in-person</td><td>106354.62</td><td>67724.54</td></tr>\n",
       "\t<tr><td>hybrid   </td><td> 80823.03</td><td>57353.09</td></tr>\n",
       "\t<tr><td>remote   </td><td>122457.45</td><td>72710.84</td></tr>\n",
       "</tbody>\n",
       "</table>\n"
      ],
      "text/latex": [
       "A tibble: 3 × 3\n",
       "\\begin{tabular}{lll}\n",
       " remote\\_ratio & mean\\_salary & salary\\_sd\\\\\n",
       " <fct> & <dbl> & <dbl>\\\\\n",
       "\\hline\n",
       "\t in-person & 106354.62 & 67724.54\\\\\n",
       "\t hybrid    &  80823.03 & 57353.09\\\\\n",
       "\t remote    & 122457.45 & 72710.84\\\\\n",
       "\\end{tabular}\n"
      ],
      "text/markdown": [
       "\n",
       "A tibble: 3 × 3\n",
       "\n",
       "| remote_ratio &lt;fct&gt; | mean_salary &lt;dbl&gt; | salary_sd &lt;dbl&gt; |\n",
       "|---|---|---|\n",
       "| in-person | 106354.62 | 67724.54 |\n",
       "| hybrid    |  80823.03 | 57353.09 |\n",
       "| remote    | 122457.45 | 72710.84 |\n",
       "\n"
      ],
      "text/plain": [
       "  remote_ratio mean_salary salary_sd\n",
       "1 in-person    106354.62   67724.54 \n",
       "2 hybrid        80823.03   57353.09 \n",
       "3 remote       122457.45   72710.84 "
      ]
     },
     "metadata": {},
     "output_type": "display_data"
    }
   ],
   "source": [
    "salary_data_clean %>%\n",
    "group_by(remote_ratio) %>%\n",
    "summarize(mean_salary = mean(salary_in_usd), salary_sd = sd(salary_in_usd))"
   ]
  },
  {
   "cell_type": "markdown",
   "metadata": {
    "vscode": {
     "languageId": "r"
    }
   },
   "source": [
    "### Methods\n",
    " \n",
    " \n",
    "This report uses a large sample of 607 data science professionals. Although there are slightly more fully remote workers than workers in other groups, each group sample is large enough to make an accurate estimate of the true population mean. The report includes two helpful visualizations involving a histogram and boxplot so that the reader can understand the properties of each group. \n",
    "\n",
    "The report might not have done enough to control for correlation and other variables. For example, it is possible that a disproportionate amount of remote workers are based in the United States, where salaries are higher (King, & Magoulas, 2015). This might inflate the mean salary of remote workers. \n",
    "A confidence interval must also be computed and visualized for each statistic. This is to better comprehend the standard variation and precision and reliability of our estimates.\n",
    "\n",
    "This report also does not discuss or analyze any of its results. It will need to include hypothesis testing in order to reject the null hypothesis that salaries workers of different remote levels have equal salaries. This will involve bootstrapping. Since this report compares three different categories of workers (in-person, hybrid, remote), an ANOVA test will be conducted. \n",
    "\n",
    "Given the preliminary results, we expect to reject the hypothesis that data science salaries between different categories of remote levels are equal. Intuitively, from **Figure 2**, it seems hybrid positions pay less compared to the other options. However, this expectation is based on intuition and not quantitative in nature. Our findings would give us an overall quantitative sense of how data science salaries vary from working on site and working remotely. One future question might include whether correlation among different variables is involved which would skew our analysis. Another future question is whether productivity is any different between different levels of remote work, and whether certain groups of workers deserve higher wages.\n",
    "\n"
   ]
  },
  {
   "cell_type": "markdown",
   "metadata": {},
   "source": [
    "### References\n",
    "\n",
    "*Data Science Job Salaries*. Kaggle. (2022, June 15). Retrieved July 26, 2022, from https://www.kaggle.com/datasets/ruchi798/data-science-job-salaries \n",
    "\n",
    "King, J., & Magoulas, R. (2015). *Data Science Salary Survey*. O'Reilly Media, Incorporated.\n",
    "\n",
    "Sendall, P., Peslak, A., Ceccucci, W., & Hunsinger, D. S. (2022). The COVID-19 Pandemic’s Impact on Information Technology Employment, Salaries, and Career Opportunities. *JOURNAL OF INFORMATION SYSTEMS APPLIED RESEARCH.*\n"
   ]
  }
 ],
 "metadata": {
  "kernelspec": {
   "display_name": "R",
   "language": "R",
   "name": "ir"
  },
  "language_info": {
   "codemirror_mode": "r",
   "file_extension": ".r",
   "mimetype": "text/x-r-source",
   "name": "R",
   "pygments_lexer": "r",
   "version": "4.0.5"
  }
 },
 "nbformat": 4,
 "nbformat_minor": 4
}
